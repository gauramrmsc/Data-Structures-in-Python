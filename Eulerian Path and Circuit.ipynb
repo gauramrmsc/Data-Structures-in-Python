{
 "cells": [
  {
   "cell_type": "code",
   "execution_count": 14,
   "metadata": {},
   "outputs": [],
   "source": [
    "class Graph:\n",
    "    def __init__(self):\n",
    "        self.count_not_even=0\n",
    "        self.visited={}\n",
    "        self.Set=set()\n",
    "        self.nodes=(input(\"Enter the nodes :\")).split(',')\n",
    "        self.Adjecent_Node_Dict={}\n",
    "        for node in self.nodes:\n",
    "            self.add_adjecent_node(node)\n",
    "    def add_node(self,node):\n",
    "        self.nodes.append(node)\n",
    "        self.add_adjecent_node(node)   \n",
    "        \n",
    "    def add_adjecent_node(self,node):\n",
    "        adjecent_nodes=set((input(\"Enter Adjecent Nodes of node %s :\"%node)).split(','))\n",
    "        self.Adjecent_Node_Dict[node]=adjecent_nodes\n",
    "        for ad_node in adjecent_nodes:\n",
    "            try:\n",
    "                self.Adjecent_Node_Dict[ad_node].add(node)\n",
    "            except KeyError:\n",
    "                self.Adjecent_Node_Dict[ad_node]={node,} \n",
    "    def remove_adjecent_node(self,node,adjecent_node):\n",
    "        self.Adjecent_Node_Dict[node].remove(adjecent_node)\n",
    "        self.Adjecent_Node_Dict[adjecent_node].remove(node)\n",
    "        \n",
    "    def remove_node(self,node):\n",
    "        for ad_node in self.Adjecent_Node_Dict[node]:\n",
    "            print(ad_node)\n",
    "            self.remove_adjecent_node(node,ad_node)\n",
    "        self.Adjecent_Node_Dict.pop(node)    \n",
    "        \n",
    "    def display_graph(self):\n",
    "        print(self.Adjecent_Node_Dict)\n",
    "        \n",
    "    def chech_Connected(self):\n",
    "        for node in self.nodes:\n",
    "            self.set=set()\n",
    "           \n",
    "            for node in self.nodes:\n",
    "                self.visited[node]=False\n",
    "            if not(len(self.Adjecent_Node_Dict[node])==0):\n",
    "                self.dfs(node)\n",
    "                if len(self.Set)<len(self.nodes):\n",
    "                    print(\"%s is not connected to every other node \"%node)\n",
    "                    return False \n",
    "        return True\n",
    "    \n",
    "    def check_even(self):\n",
    "        count_not_even=0\n",
    "        for node in self.nodes:\n",
    "            if not(len(self.Adjecent_Node_Dict[node])%2==0):\n",
    "                count_not_even+=1         \n",
    "        return count_not_even\n",
    "    \n",
    "    def chk_euler_cycle(self):\n",
    "       \n",
    "        if (self.chech_Connected()and self.check_even()==0):\n",
    "            print(\"Euler Cycle Possible\")\n",
    "        else:\n",
    "            print(\"Euler Cycle not Possible\")\n",
    "            \n",
    "    \n",
    "    def chk_euler_path(self):\n",
    "        if (self.chech_Connected()and ( self.check_even()==0 or self.check_even()==2)):\n",
    "            print(\"Euler Path Possible\")\n",
    "        else:\n",
    "            print(\"Euler Path not Possible\")  \n",
    "    \n",
    "    def dfs(self,node):\n",
    "            if self.visited[node]==False:\n",
    "                self.Set.add(node)\n",
    "                self.visited[node]=True\n",
    "                for ad_node in self.Adjecent_Node_Dict[node]:\n",
    "                    self.dfs(ad_node)\n",
    "                "
   ]
  },
  {
   "cell_type": "code",
   "execution_count": 17,
   "metadata": {
    "scrolled": false
   },
   "outputs": [
    {
     "name": "stdout",
     "output_type": "stream",
     "text": [
      "Enter the nodes :1,2,3\n",
      "Enter Adjecent Nodes of node 1 :2,3\n",
      "Enter Adjecent Nodes of node 2 :1,3\n",
      "Enter Adjecent Nodes of node 3 :1,2\n",
      "{'1': {'2', '3'}, '2': {'3', '1'}, '3': {'2', '1'}}\n",
      "Euler Path Possible\n",
      "Euler Cycle Possible\n"
     ]
    }
   ],
   "source": [
    "graph=Graph()\n",
    "graph.display_graph()\n",
    "graph.chk_euler_path()\n",
    "graph.chk_euler_cycle()\n"
   ]
  },
  {
   "cell_type": "code",
   "execution_count": 15,
   "metadata": {},
   "outputs": [
    {
     "name": "stdout",
     "output_type": "stream",
     "text": [
      "Euler Path not Possible\n"
     ]
    }
   ],
   "source": [
    "graph.chech_Connected()\n",
    "graph.check_even()\n",
    "graph.chk_euler_path()\n"
   ]
  }
 ],
 "metadata": {
  "kernelspec": {
   "display_name": "Python 3",
   "language": "python",
   "name": "python3"
  },
  "language_info": {
   "codemirror_mode": {
    "name": "ipython",
    "version": 3
   },
   "file_extension": ".py",
   "mimetype": "text/x-python",
   "name": "python",
   "nbconvert_exporter": "python",
   "pygments_lexer": "ipython3",
   "version": "3.7.3"
  }
 },
 "nbformat": 4,
 "nbformat_minor": 2
}
