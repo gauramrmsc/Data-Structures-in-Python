{
 "cells": [
  {
   "cell_type": "code",
   "execution_count": 1,
   "metadata": {},
   "outputs": [],
   "source": [
    "class Graph:\n",
    "    def __init__(self):\n",
    "        self.selected={}\n",
    "        self.dist={}\n",
    "        self.cost_dict={}\n",
    "        self.Set=set()\n",
    "        self.nodes=(input(\"Enter the nodes :\")).split(',')\n",
    "        self.Adjecent_Node_Dict={}\n",
    "        for node in self.nodes:\n",
    "            self.add_adjecent_node(node)\n",
    "            self.selected[node]=False\n",
    "            self.dist[node]=\"inf\"\n",
    "    \n",
    "    def add_node(self,node):\n",
    "        self.nodes.append(node)\n",
    "        self.add_adjecent_node(node)\n",
    "        \n",
    "    def add_adjecent_node(self,node):\n",
    "        adjecent_nodes=set((input(\"Enter Adjecent Nodes of node %s :\"%node)).split(','))\n",
    "        self.Adjecent_Node_Dict[node]=adjecent_nodes\n",
    "        for ad_node in adjecent_nodes:\n",
    "            self.add_dist(node,ad_node)\n",
    "            try:\n",
    "                self.Adjecent_Node_Dict[ad_node].add(node)\n",
    "            except KeyError:\n",
    "                self.Adjecent_Node_Dict[ad_node]={node,}\n",
    "                \n",
    "    \n",
    "    def remove_adjecent_node(self,node,adjecent_node):\n",
    "        self.Adjecent_Node_Dict[node].remove(adjecent_node)\n",
    "        self.Adjecent_Node_Dict[adjecent_node].remove(node)\n",
    "    \n",
    "    def remove_node(self,node):\n",
    "        for ad_node in self.Adjecent_Node_Dict[node]:\n",
    "            print(ad_node)\n",
    "            self.remove_adjecent_node(node,ad_node)\n",
    "        self.Adjecent_Node_Dict.pop(node)\n",
    "   \n",
    "    def display_graph(self):\n",
    "        print(self.Adjecent_Node_Dict)\n",
    "    \n",
    "    \n",
    "    \n",
    "    \n",
    "    def add_dist(self,node1,node2):\n",
    "        edge=(node1,node2)\n",
    "        edge_dist=int(input(\"Enter Distance Between :\"+str(edge)))\n",
    "        self.cost_dict[edge]= edge_dist\n",
    "    \n",
    "    def min_dist(self,node1,node2):\n",
    "        if(self.dist[node2]==\"inf\" or (self.dist[node2]>self.dist[node1]+self.cost_dict[(node1,node2)])):\n",
    "            self.dist[node2]=self.dist[node1]+self.cost_dict[(node1,node2)]\n",
    "    def min_dist_node(self,node):\n",
    "        ptr=None\n",
    "        for ad_node in self.Adjecent_Node_Dict[node]:\n",
    "            if(self.selected[ad_node]==False ):\n",
    "                ptr=ad_node\n",
    "                self.selected[ad_node]=True\n",
    "                break\n",
    "                \n",
    "        for ad_node in self.Adjecent_Node_Dict[node]:\n",
    "            if(self.selected[ad_node]==False ):\n",
    "                if self.dist[ad_node]<self.dist[ptr]:\n",
    "                    ptr=ad_node\n",
    "                    self.selected[ad_node]=True\n",
    "                    \n",
    "        return ptr    \n",
    "        \n",
    "        \n",
    "      \n",
    "    def dij(self,node):\n",
    "        for ad_node in self.Adjecent_Node_Dict[node]:\n",
    "            if self.selected[ad_node]==False:\n",
    "                self.min_dist(node,ad_node)\n",
    "        ptr=self.min_dist_node(node)        \n",
    "        if not (ptr==None):\n",
    "            self.dij(ptr) \n",
    "            "
   ]
  },
  {
   "cell_type": "code",
   "execution_count": 2,
   "metadata": {},
   "outputs": [
    {
     "name": "stdout",
     "output_type": "stream",
     "text": [
      "Enter the nodes :1,2,3,4\n",
      "Enter Adjecent Nodes of node 1 :2,3\n",
      "Enter Distance Between :('1', '2')1\n",
      "Enter Distance Between :('1', '3')3\n",
      "Enter Adjecent Nodes of node 2 :1,4\n",
      "Enter Distance Between :('2', '1')1\n",
      "Enter Distance Between :('2', '4')2\n",
      "Enter Adjecent Nodes of node 3 :1,4\n",
      "Enter Distance Between :('3', '1')3\n",
      "Enter Distance Between :('3', '4')4\n",
      "Enter Adjecent Nodes of node 4 :2,3\n",
      "Enter Distance Between :('4', '2')2\n",
      "Enter Distance Between :('4', '3')4\n",
      "{'1': {'2', '3'}, '2': {'1', '4'}, '3': {'1', '4'}, '4': {'2', '3'}}\n"
     ]
    }
   ],
   "source": [
    "graph=Graph()\n",
    "graph.display_graph()\n",
    "graph.dist['1']=0\n",
    "graph.dij('1')\n"
   ]
  },
  {
   "cell_type": "code",
   "execution_count": 3,
   "metadata": {},
   "outputs": [
    {
     "data": {
      "text/plain": [
       "3"
      ]
     },
     "execution_count": 3,
     "metadata": {},
     "output_type": "execute_result"
    }
   ],
   "source": [
    "graph.dist['4']"
   ]
  }
 ],
 "metadata": {
  "kernelspec": {
   "display_name": "Python 3",
   "language": "python",
   "name": "python3"
  },
  "language_info": {
   "codemirror_mode": {
    "name": "ipython",
    "version": 3
   },
   "file_extension": ".py",
   "mimetype": "text/x-python",
   "name": "python",
   "nbconvert_exporter": "python",
   "pygments_lexer": "ipython3",
   "version": "3.7.3"
  }
 },
 "nbformat": 4,
 "nbformat_minor": 2
}
